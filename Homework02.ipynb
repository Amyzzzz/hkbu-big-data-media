{
 "cells": [
  {
   "cell_type": "code",
   "execution_count": 1,
   "metadata": {},
   "outputs": [],
   "source": [
    "import requests\n",
    "import csv\n",
    "from bs4 import BeautifulSoup"
   ]
  },
  {
   "cell_type": "code",
   "execution_count": 2,
   "metadata": {},
   "outputs": [],
   "source": [
    "url = 'http://www.sixthtone.com/features/26167/DeepTones'"
   ]
  },
  {
   "cell_type": "code",
   "execution_count": 3,
   "metadata": {},
   "outputs": [],
   "source": [
    "r = requests.get(url)"
   ]
  },
  {
   "cell_type": "code",
   "execution_count": 4,
   "metadata": {},
   "outputs": [],
   "source": [
    "document = BeautifulSoup(r.text,'html.parser')"
   ]
  },
  {
   "cell_type": "code",
   "execution_count": 5,
   "metadata": {},
   "outputs": [],
   "source": [
    "myh3 = document.find_all('h3',attrs={'class':'heading-3'})"
   ]
  },
  {
   "cell_type": "code",
   "execution_count": 6,
   "metadata": {},
   "outputs": [
    {
     "data": {
      "text/plain": [
       "[<h3 class=\"heading-3\">Follow Us</h3>,\n",
       " <h3 class=\"heading-3 text-uppercase\"> Most Read</h3>,\n",
       " <h3 class=\"heading-3 text-uppercase\"> Most Read</h3>,\n",
       " <h3 class=\"heading-3\">\n",
       " <a class=\"link-1\" href=\"/news/1001819/under-threat-from-endangered-elephants\" title=\"Under Threat From Endangered Elephants\">Under Threat From Endangered Elephants</a>\n",
       " </h3>,\n",
       " <h3 class=\"heading-3\">\n",
       " <a class=\"link-1\" href=\"/news/1001807/the-triple-killing-on-lunar-new-years-eve\" title=\"The Triple Killing on Lunar New Year’s Eve\">The Triple Killing on Lunar New Year’s Eve</a>\n",
       " </h3>,\n",
       " <h3 class=\"heading-3\">\n",
       " <a class=\"link-1\" href=\"/news/1001806/how-dyslexia-remains-invisible-in-chinese-schools\" title=\"How Dyslexia Remains Invisible in Chinese Schools\">How Dyslexia Remains Invisible in Chinese Schools</a>\n",
       " </h3>,\n",
       " <h3 class=\"heading-3\">\n",
       " <a class=\"link-1\" href=\"/news/1001805/the-blind-counselors-helping-people-face-themselves-in-the-dark\" title=\"The Blind Counselors Helping People Face Themselves in the Dark\">The Blind Counselors Helping People Face Themselves in the Dark</a>\n",
       " </h3>,\n",
       " <h3 class=\"heading-3\">\n",
       " <a class=\"link-1\" href=\"/news/1001654/chinas-gay-and-disabled-face-double-discrimination\" title=\"China’s Gay and Disabled Face Double Discrimination\">China’s Gay and Disabled Face Double Discrimination</a>\n",
       " </h3>,\n",
       " <h3 class=\"heading-3\">\n",
       " <a class=\"link-1\" href=\"/news/1001705/easing-their-pain-the-center-providing-hospice-care-to-orphans\" title=\"Easing Their Pain: The Center Providing Hospice Care to Orphans\">Easing Their Pain: The Center Providing Hospice Care to Orphans</a>\n",
       " </h3>,\n",
       " <h3 class=\"heading-3\">\n",
       " <a class=\"link-1\" href=\"/news/1001709/reinventing-nianhua%2C-a-faded-chinese-new-year-tradition\" title=\"Reinventing ‘Nianhua,’ a Faded Chinese New Year Tradition\">Reinventing ‘Nianhua,’ a Faded Chinese New Year Tradition</a>\n",
       " </h3>,\n",
       " <h3 class=\"heading-3\">\n",
       " <a class=\"link-1\" href=\"/news/1001708/starting-from-scratch-chinas-dj-kids\" title=\"Starting From Scratch: China’s DJ Kids\">Starting From Scratch: China’s DJ Kids</a>\n",
       " </h3>,\n",
       " <h3 class=\"heading-3\">\n",
       " <a class=\"link-1\" href=\"/news/1001704/chinese-travelers-set-to-see-mile-high-airfares\" title=\"Chinese Travelers Set to See Mile-High Airfares\">Chinese Travelers Set to See Mile-High Airfares</a>\n",
       " </h3>,\n",
       " <h3 class=\"heading-3\">\n",
       " <a class=\"link-1\" href=\"/news/1001700/the-fading-embers-of-a-centuries-old-fireworks-ritual\" title=\"The Fading Embers of a Centuries-Old Fireworks Ritual\">The Fading Embers of a Centuries-Old Fireworks Ritual</a>\n",
       " </h3>,\n",
       " <h3 class=\"heading-3\">\n",
       " <a class=\"link-1\" href=\"/news/1001685/saving-chinas-soul%2C-one-village-at-a-time\" title=\"Saving China’s Soul, One Village at a Time\">Saving China’s Soul, One Village at a Time</a>\n",
       " </h3>,\n",
       " <h3 class=\"heading-3\">\n",
       " <a class=\"link-1\" href=\"/news/1001678/with-seabed-nursery%2C-divers-aim-to-save-shenzhen-coral\" title=\"With Seabed Nursery, Divers Aim to Save Shenzhen Coral\">With Seabed Nursery, Divers Aim to Save Shenzhen Coral</a>\n",
       " </h3>,\n",
       " <h3 class=\"heading-3\">\n",
       " <a class=\"link-1\" href=\"/news/1001669/on-the-cold-trail-of-a-child-trafficker\" title=\"On the Cold Trail of a Child Trafficker\">On the Cold Trail of a Child Trafficker</a>\n",
       " </h3>,\n",
       " <h3 class=\"heading-3\">\n",
       " <a class=\"link-1\" href=\"/news/1001653/how-protection-orders-leave-domestic-abuse-victims-vulnerable\" title=\"How Protection Orders Leave Domestic Abuse Victims Vulnerable\">How Protection Orders Leave Domestic Abuse Victims Vulnerable</a>\n",
       " </h3>,\n",
       " <h3 class=\"heading-3\">\n",
       " <a class=\"link-1\" href=\"http://interaction.sixthtone.com/feature/2018/brewing-trouble-maotai/index.html\" title=\"Brewing Trouble\">Brewing Trouble</a>\n",
       " </h3>,\n",
       " <h3 class=\"heading-3\">\n",
       " <a class=\"link-1\" href=\"/news/1001543/out-of-her-hands-trials-and-trauma-of-a-blind-masseuse\" title=\"Out of Her Hands: Trials and Trauma of a Blind Masseuse\">Out of Her Hands: Trials and Trauma of a Blind Masseuse</a>\n",
       " </h3>,\n",
       " <h3 class=\"heading-3\">\n",
       " <a class=\"link-1\" href=\"/news/1001627/shipwrecked-for-32-hours%2C-adrift-for-a-year\" title=\"Shipwrecked for 32 Hours, Adrift for a Year\">Shipwrecked for 32 Hours, Adrift for a Year</a>\n",
       " </h3>,\n",
       " <h3 class=\"heading-3\">\n",
       " <a class=\"link-1\" href=\"/news/1001619/the-sex-doll-wholl-do-your-dishes\" title=\"The Sex Doll Who’ll Do Your Dishes\">The Sex Doll Who’ll Do Your Dishes</a>\n",
       " </h3>,\n",
       " <h3 class=\"heading-3\">\n",
       " <a class=\"link-1\" href=\"/news/1001612/the-former-doctor-fighting-chinas-health-rumor-epidemic\" title=\"The Former Doctor Fighting China’s Health Rumor Epidemic\">The Former Doctor Fighting China’s Health Rumor Epidemic</a>\n",
       " </h3>,\n",
       " <h3 class=\"heading-3\">\n",
       " <a class=\"link-1\" href=\"/news/1001609/the-maybe-magic-well-water-of-twins-town\" title=\"The Maybe-Magic Well Water of Twins Town\">The Maybe-Magic Well Water of Twins Town</a>\n",
       " </h3>,\n",
       " <h3 class=\"heading-3\" style=\"margin-top:0\">Follow Us</h3>,\n",
       " <h3 class=\"heading-3\" style=\"margin-top:0\">About Sixth Tone</h3>]"
      ]
     },
     "execution_count": 6,
     "metadata": {},
     "output_type": "execute_result"
    }
   ],
   "source": [
    "myh3"
   ]
  },
  {
   "cell_type": "code",
   "execution_count": 7,
   "metadata": {},
   "outputs": [
    {
     "data": {
      "text/plain": [
       "25"
      ]
     },
     "execution_count": 7,
     "metadata": {},
     "output_type": "execute_result"
    }
   ],
   "source": [
    "len (myh3)"
   ]
  },
  {
   "cell_type": "code",
   "execution_count": 8,
   "metadata": {},
   "outputs": [],
   "source": [
    "titles= []\n",
    "for n in range(3,23):\n",
    "    title = myh3[n]\n",
    "    titles.append(title.text.strip())"
   ]
  },
  {
   "cell_type": "code",
   "execution_count": 9,
   "metadata": {},
   "outputs": [
    {
     "data": {
      "text/plain": [
       "['Under Threat From Endangered Elephants',\n",
       " 'The Triple Killing on Lunar New Year’s Eve',\n",
       " 'How Dyslexia Remains Invisible in Chinese Schools',\n",
       " 'The Blind Counselors Helping People Face Themselves in the Dark',\n",
       " 'China’s Gay and Disabled Face Double Discrimination',\n",
       " 'Easing Their Pain: The Center Providing Hospice Care to Orphans',\n",
       " 'Reinventing ‘Nianhua,’ a Faded Chinese New Year Tradition',\n",
       " 'Starting From Scratch: China’s DJ Kids',\n",
       " 'Chinese Travelers Set to See Mile-High Airfares',\n",
       " 'The Fading Embers of a Centuries-Old Fireworks Ritual',\n",
       " 'Saving China’s Soul, One Village at a Time',\n",
       " 'With Seabed Nursery, Divers Aim to Save Shenzhen Coral',\n",
       " 'On the Cold Trail of a Child Trafficker',\n",
       " 'How Protection Orders Leave Domestic Abuse Victims Vulnerable',\n",
       " 'Brewing Trouble',\n",
       " 'Out of Her Hands: Trials and Trauma of a Blind Masseuse',\n",
       " 'Shipwrecked for 32 Hours, Adrift for a Year',\n",
       " 'The Sex Doll Who’ll Do Your Dishes',\n",
       " 'The Former Doctor Fighting China’s Health Rumor Epidemic',\n",
       " 'The Maybe-Magic Well Water of Twins Town']"
      ]
     },
     "execution_count": 9,
     "metadata": {},
     "output_type": "execute_result"
    }
   ],
   "source": [
    "titles"
   ]
  },
  {
   "cell_type": "code",
   "execution_count": 10,
   "metadata": {},
   "outputs": [],
   "source": [
    "author = document.find_all('div',attrs={'class':'author-name'})"
   ]
  },
  {
   "cell_type": "code",
   "execution_count": 11,
   "metadata": {},
   "outputs": [
    {
     "data": {
      "text/plain": [
       "[<div class=\"author-name\">\n",
       " <a class=\"link-1\" href=\"/users/1001030\" title=\"Wang Wanchun\">Wang Wanchun</a>\n",
       " </div>, <div class=\"author-name\">\n",
       " <a class=\"link-1\" href=\"/users/1001830\" title=\"Wang Jian\">Wang Jian</a>\n",
       " </div>, <div class=\"author-name\">\n",
       " <a class=\"link-1\" href=\"/users/21159\" title=\"Cai Yiwen\">Cai Yiwen</a>\n",
       " </div>, <div class=\"author-name\">\n",
       " <a class=\"link-1\" href=\"/users/21155\" title=\"Wang Lianzhang\">Wang Lianzhang</a>\n",
       " </div>, <div class=\"author-name\">\n",
       " <a class=\"link-1\" href=\"/users/21147\" title=\"Fan Yiying\">Fan Yiying</a>\n",
       " </div>, <div class=\"author-name\">\n",
       " <a class=\"link-1\" href=\"/users/21150\" title=\"Ni Dandan\">Ni Dandan</a>\n",
       " </div>, <div class=\"author-name\">\n",
       " <a class=\"link-1\" href=\"/users/21154\" title=\"Fu Danni\">Fu Danni</a>\n",
       " </div>, <div class=\"author-name\">\n",
       " <a class=\"link-1\" href=\"/users/1000377\" title=\"Kenrick Davis\">Kenrick Davis</a>\n",
       " </div>, <div class=\"author-name\">\n",
       " <a class=\"link-1\" href=\"/users/29549\" title=\"Bibek Bhandari\">Bibek Bhandari</a>\n",
       " </div>, <div class=\"author-name\">\n",
       " <a class=\"link-1\" href=\"/users/29322\" title=\"Yin Yijun\">Yin Yijun</a>\n",
       " </div>, <div class=\"author-name\">\n",
       " <a class=\"link-1\" href=\"/users/29369\" title=\"Denise Hruby\">Denise Hruby</a>\n",
       " </div>, <div class=\"author-name\">\n",
       " <a class=\"link-1\" href=\"/users/21158\" title=\"Li You\">Li You</a>\n",
       " </div>, <div class=\"author-name\">\n",
       " <a class=\"link-1\" href=\"/users/1000891\" title=\"Ming Que\">Ming Que</a>\n",
       " </div>, <div class=\"author-name\">\n",
       " <a class=\"link-1\" href=\"/users/21154\" title=\"Fu Danni\">Fu Danni</a>\n",
       " </div>, <div class=\"author-name\">\n",
       " <a class=\"link-1\" href=\"/users/29432\" title=\"Zhang Liping\">Zhang Liping</a>\n",
       " </div>, <div class=\"author-name\">\n",
       " <a class=\"link-1\" href=\"/users/1001296\" title=\"Joyce Siu\">Joyce Siu</a>\n",
       " </div>, <div class=\"author-name\">\n",
       " <a class=\"link-1\" href=\"/users/29391\" title=\"Yuan Lu\">Yuan Lu</a>\n",
       " </div>, <div class=\"author-name\">\n",
       " <a class=\"link-1\" href=\"/users/1000180\" title=\"Chen Na\">Chen Na</a>\n",
       " </div>, <div class=\"author-name\">\n",
       " <a class=\"link-1\" href=\"/users/29469\" title=\"Wang Yiwei\">Wang Yiwei</a>\n",
       " </div>, <div class=\"author-name\">\n",
       " <a class=\"link-1\" href=\"/users/21147\" title=\"Fan Yiying\">Fan Yiying</a>\n",
       " </div>]"
      ]
     },
     "execution_count": 11,
     "metadata": {},
     "output_type": "execute_result"
    }
   ],
   "source": [
    "author"
   ]
  },
  {
   "cell_type": "code",
   "execution_count": 12,
   "metadata": {},
   "outputs": [],
   "source": [
    "authors = []\n",
    "for n in author:\n",
    "    authors.append(n.text.strip().replace('\\xa0',' '))"
   ]
  },
  {
   "cell_type": "code",
   "execution_count": 13,
   "metadata": {},
   "outputs": [
    {
     "data": {
      "text/plain": [
       "['Wang Wanchun',\n",
       " 'Wang Jian',\n",
       " 'Cai Yiwen',\n",
       " 'Wang Lianzhang',\n",
       " 'Fan Yiying',\n",
       " 'Ni Dandan',\n",
       " 'Fu Danni',\n",
       " 'Kenrick Davis',\n",
       " 'Bibek Bhandari',\n",
       " 'Yin Yijun',\n",
       " 'Denise Hruby',\n",
       " 'Li You',\n",
       " 'Ming Que',\n",
       " 'Fu Danni',\n",
       " 'Zhang Liping',\n",
       " 'Joyce Siu',\n",
       " 'Yuan Lu',\n",
       " 'Chen Na',\n",
       " 'Wang Yiwei',\n",
       " 'Fan Yiying']"
      ]
     },
     "execution_count": 13,
     "metadata": {},
     "output_type": "execute_result"
    }
   ],
   "source": [
    "authors"
   ]
  },
  {
   "cell_type": "code",
   "execution_count": 14,
   "metadata": {},
   "outputs": [],
   "source": [
    "myli = document.find_all('li',attrs = {'class':'129 first last'})"
   ]
  },
  {
   "cell_type": "code",
   "execution_count": 15,
   "metadata": {},
   "outputs": [],
   "source": [
    "sections = []\n",
    "for x in myli:\n",
    "    sections.append(x.text.strip())"
   ]
  },
  {
   "cell_type": "code",
   "execution_count": 16,
   "metadata": {},
   "outputs": [
    {
     "data": {
      "text/plain": [
       "['animals',\n",
       " 'violence',\n",
       " 'disability',\n",
       " 'disability',\n",
       " 'LGBT',\n",
       " 'health',\n",
       " 'vivid tones',\n",
       " 'music',\n",
       " 'transport',\n",
       " 'Chinese New Year',\n",
       " 'rural China',\n",
       " 'environment',\n",
       " 'crime',\n",
       " 'law & justice',\n",
       " 'interactive',\n",
       " 'disability',\n",
       " 'disasters',\n",
       " 'technology',\n",
       " 'health',\n",
       " 'family']"
      ]
     },
     "execution_count": 16,
     "metadata": {},
     "output_type": "execute_result"
    }
   ],
   "source": [
    "sections"
   ]
  },
  {
   "cell_type": "code",
   "execution_count": 17,
   "metadata": {},
   "outputs": [],
   "source": [
    "with open (\"SixthToneDeepTones.csv\",'w') as f:\n",
    "    writer = csv.writer(f)\n",
    "    header = ['title','author','section']\n",
    "    writer.writerow(header)\n",
    "    writer.writerows(zip(titles,authors,sections))"
   ]
  },
  {
   "cell_type": "code",
   "execution_count": null,
   "metadata": {},
   "outputs": [],
   "source": []
  },
  {
   "cell_type": "code",
   "execution_count": null,
   "metadata": {},
   "outputs": [],
   "source": []
  },
  {
   "cell_type": "code",
   "execution_count": null,
   "metadata": {},
   "outputs": [],
   "source": []
  },
  {
   "cell_type": "code",
   "execution_count": null,
   "metadata": {},
   "outputs": [],
   "source": []
  },
  {
   "cell_type": "code",
   "execution_count": null,
   "metadata": {},
   "outputs": [],
   "source": []
  },
  {
   "cell_type": "code",
   "execution_count": null,
   "metadata": {},
   "outputs": [],
   "source": []
  },
  {
   "cell_type": "code",
   "execution_count": null,
   "metadata": {},
   "outputs": [],
   "source": []
  },
  {
   "cell_type": "code",
   "execution_count": null,
   "metadata": {},
   "outputs": [],
   "source": []
  },
  {
   "cell_type": "code",
   "execution_count": null,
   "metadata": {},
   "outputs": [],
   "source": []
  },
  {
   "cell_type": "code",
   "execution_count": null,
   "metadata": {},
   "outputs": [],
   "source": []
  },
  {
   "cell_type": "code",
   "execution_count": null,
   "metadata": {},
   "outputs": [],
   "source": []
  },
  {
   "cell_type": "code",
   "execution_count": null,
   "metadata": {},
   "outputs": [],
   "source": []
  },
  {
   "cell_type": "code",
   "execution_count": null,
   "metadata": {},
   "outputs": [],
   "source": []
  },
  {
   "cell_type": "code",
   "execution_count": null,
   "metadata": {},
   "outputs": [],
   "source": []
  },
  {
   "cell_type": "code",
   "execution_count": null,
   "metadata": {},
   "outputs": [],
   "source": []
  },
  {
   "cell_type": "code",
   "execution_count": null,
   "metadata": {},
   "outputs": [],
   "source": []
  },
  {
   "cell_type": "code",
   "execution_count": null,
   "metadata": {},
   "outputs": [],
   "source": []
  },
  {
   "cell_type": "code",
   "execution_count": null,
   "metadata": {},
   "outputs": [],
   "source": []
  },
  {
   "cell_type": "code",
   "execution_count": null,
   "metadata": {},
   "outputs": [],
   "source": []
  },
  {
   "cell_type": "code",
   "execution_count": null,
   "metadata": {},
   "outputs": [],
   "source": []
  },
  {
   "cell_type": "code",
   "execution_count": null,
   "metadata": {},
   "outputs": [],
   "source": []
  },
  {
   "cell_type": "code",
   "execution_count": null,
   "metadata": {},
   "outputs": [],
   "source": []
  },
  {
   "cell_type": "code",
   "execution_count": null,
   "metadata": {},
   "outputs": [],
   "source": []
  },
  {
   "cell_type": "code",
   "execution_count": null,
   "metadata": {},
   "outputs": [],
   "source": []
  },
  {
   "cell_type": "code",
   "execution_count": null,
   "metadata": {},
   "outputs": [],
   "source": []
  },
  {
   "cell_type": "code",
   "execution_count": null,
   "metadata": {},
   "outputs": [],
   "source": []
  },
  {
   "cell_type": "code",
   "execution_count": null,
   "metadata": {},
   "outputs": [],
   "source": []
  },
  {
   "cell_type": "code",
   "execution_count": null,
   "metadata": {},
   "outputs": [],
   "source": []
  },
  {
   "cell_type": "code",
   "execution_count": null,
   "metadata": {},
   "outputs": [],
   "source": []
  },
  {
   "cell_type": "code",
   "execution_count": null,
   "metadata": {},
   "outputs": [],
   "source": []
  },
  {
   "cell_type": "code",
   "execution_count": null,
   "metadata": {},
   "outputs": [],
   "source": []
  },
  {
   "cell_type": "code",
   "execution_count": null,
   "metadata": {},
   "outputs": [],
   "source": []
  },
  {
   "cell_type": "code",
   "execution_count": null,
   "metadata": {},
   "outputs": [],
   "source": []
  },
  {
   "cell_type": "code",
   "execution_count": null,
   "metadata": {},
   "outputs": [],
   "source": []
  },
  {
   "cell_type": "code",
   "execution_count": null,
   "metadata": {},
   "outputs": [],
   "source": []
  },
  {
   "cell_type": "code",
   "execution_count": null,
   "metadata": {},
   "outputs": [],
   "source": []
  },
  {
   "cell_type": "code",
   "execution_count": null,
   "metadata": {},
   "outputs": [],
   "source": []
  },
  {
   "cell_type": "code",
   "execution_count": null,
   "metadata": {},
   "outputs": [],
   "source": []
  },
  {
   "cell_type": "code",
   "execution_count": null,
   "metadata": {},
   "outputs": [],
   "source": []
  },
  {
   "cell_type": "code",
   "execution_count": null,
   "metadata": {},
   "outputs": [],
   "source": []
  },
  {
   "cell_type": "code",
   "execution_count": null,
   "metadata": {},
   "outputs": [],
   "source": []
  },
  {
   "cell_type": "code",
   "execution_count": null,
   "metadata": {},
   "outputs": [],
   "source": []
  },
  {
   "cell_type": "code",
   "execution_count": null,
   "metadata": {},
   "outputs": [],
   "source": []
  },
  {
   "cell_type": "code",
   "execution_count": null,
   "metadata": {},
   "outputs": [],
   "source": []
  },
  {
   "cell_type": "code",
   "execution_count": null,
   "metadata": {},
   "outputs": [],
   "source": []
  },
  {
   "cell_type": "code",
   "execution_count": null,
   "metadata": {},
   "outputs": [],
   "source": []
  },
  {
   "cell_type": "code",
   "execution_count": null,
   "metadata": {},
   "outputs": [],
   "source": []
  },
  {
   "cell_type": "code",
   "execution_count": null,
   "metadata": {},
   "outputs": [],
   "source": []
  },
  {
   "cell_type": "code",
   "execution_count": null,
   "metadata": {},
   "outputs": [],
   "source": []
  },
  {
   "cell_type": "code",
   "execution_count": null,
   "metadata": {},
   "outputs": [],
   "source": []
  },
  {
   "cell_type": "code",
   "execution_count": null,
   "metadata": {},
   "outputs": [],
   "source": []
  },
  {
   "cell_type": "code",
   "execution_count": null,
   "metadata": {},
   "outputs": [],
   "source": []
  }
 ],
 "metadata": {
  "kernelspec": {
   "display_name": "Python 3",
   "language": "python",
   "name": "python3"
  },
  "language_info": {
   "codemirror_mode": {
    "name": "ipython",
    "version": 3
   },
   "file_extension": ".py",
   "mimetype": "text/x-python",
   "name": "python",
   "nbconvert_exporter": "python",
   "pygments_lexer": "ipython3",
   "version": "3.6.4"
  }
 },
 "nbformat": 4,
 "nbformat_minor": 2
}
